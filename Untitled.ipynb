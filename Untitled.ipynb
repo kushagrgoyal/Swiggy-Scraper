{
 "cells": [
  {
   "cell_type": "code",
   "execution_count": 1,
   "id": "developing-briefs",
   "metadata": {},
   "outputs": [],
   "source": [
    "import pandas as pd"
   ]
  },
  {
   "cell_type": "code",
   "execution_count": 2,
   "id": "optional-stand",
   "metadata": {},
   "outputs": [],
   "source": [
    "df = pd.read_csv('Swiggy_scraped.csv')"
   ]
  },
  {
   "cell_type": "code",
   "execution_count": 13,
   "id": "fallen-philippines",
   "metadata": {},
   "outputs": [
    {
     "data": {
      "text/plain": [
       "['600',\n",
       " '200',\n",
       " '200',\n",
       " '150',\n",
       " '300',\n",
       " '600',\n",
       " '250',\n",
       " '400',\n",
       " '400',\n",
       " '200',\n",
       " '200',\n",
       " '200',\n",
       " '600',\n",
       " '200',\n",
       " '600',\n",
       " '200',\n",
       " '200',\n",
       " '150',\n",
       " '300',\n",
       " '600',\n",
       " '250',\n",
       " '400',\n",
       " '400',\n",
       " '200',\n",
       " '200',\n",
       " '200',\n",
       " '600',\n",
       " '200',\n",
       " '150',\n",
       " '140',\n",
       " '450',\n",
       " '300',\n",
       " '450',\n",
       " '250',\n",
       " '450',\n",
       " '450',\n",
       " '300',\n",
       " '200',\n",
       " '280',\n",
       " '400',\n",
       " '600',\n",
       " '200',\n",
       " '200',\n",
       " '150',\n",
       " '300',\n",
       " '600',\n",
       " '250',\n",
       " '400',\n",
       " '400',\n",
       " '200',\n",
       " '200',\n",
       " '200',\n",
       " '600',\n",
       " '200',\n",
       " '150',\n",
       " '140',\n",
       " '450',\n",
       " '300',\n",
       " '450',\n",
       " '250',\n",
       " '450',\n",
       " '450',\n",
       " '300',\n",
       " '200',\n",
       " '280',\n",
       " '400',\n",
       " '600',\n",
       " '200',\n",
       " '200',\n",
       " '150',\n",
       " '300',\n",
       " '600',\n",
       " '250',\n",
       " '400',\n",
       " '400',\n",
       " '200',\n",
       " '200',\n",
       " '200',\n",
       " '600',\n",
       " '200',\n",
       " '150',\n",
       " '140',\n",
       " '450',\n",
       " '300',\n",
       " '450',\n",
       " '250',\n",
       " '450',\n",
       " '450',\n",
       " '300',\n",
       " '200',\n",
       " '280',\n",
       " '400']"
      ]
     },
     "execution_count": 13,
     "metadata": {},
     "output_type": "execute_result"
    }
   ],
   "source": [
    "[i[1:] for i in df.Cost_two.values]"
   ]
  }
 ],
 "metadata": {
  "kernelspec": {
   "display_name": "Python 3.7.6 64-bit ('tensorflow': conda)",
   "language": "python",
   "name": "python37664bittensorflowconda83262d44f23c40b1ac094d8f0a26c5fc"
  },
  "language_info": {
   "codemirror_mode": {
    "name": "ipython",
    "version": 3
   },
   "file_extension": ".py",
   "mimetype": "text/x-python",
   "name": "python",
   "nbconvert_exporter": "python",
   "pygments_lexer": "ipython3",
   "version": "3.9.1"
  }
 },
 "nbformat": 4,
 "nbformat_minor": 5
}
